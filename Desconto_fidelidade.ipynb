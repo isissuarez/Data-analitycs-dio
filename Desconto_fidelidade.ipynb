{
  "nbformat": 4,
  "nbformat_minor": 0,
  "metadata": {
    "colab": {
      "provenance": [],
      "authorship_tag": "ABX9TyM56l1ofHQpIK38ENaqo1e1",
      "include_colab_link": true
    },
    "kernelspec": {
      "name": "python3",
      "display_name": "Python 3"
    },
    "language_info": {
      "name": "python"
    }
  },
  "cells": [
    {
      "cell_type": "markdown",
      "metadata": {
        "id": "view-in-github",
        "colab_type": "text"
      },
      "source": [
        "<a href=\"https://colab.research.google.com/github/isissuarez/Data-analitycs-dio/blob/main/Desconto_fidelidade.ipynb\" target=\"_parent\"><img src=\"https://colab.research.google.com/assets/colab-badge.svg\" alt=\"Open In Colab\"/></a>"
      ]
    },
    {
      "cell_type": "markdown",
      "source": [
        "# Contexto\n",
        "\n",
        "Como parte de uma ação de fidelizaçõ de clientes de um supermercado, com base eum um dataset contendo informações de compra dos clientes iremos segmentalos por valor de compra e fornecer dscontos exclusivos na sua categoria de produto mais adquirida.\n"
      ],
      "metadata": {
        "id": "djIhigzdk9fA"
      }
    },
    {
      "cell_type": "markdown",
      "source": [
        "Etapa 1 - entrada dos dados\n"
      ],
      "metadata": {
        "id": "U0LiD8puk_Ld"
      }
    },
    {
      "cell_type": "code",
      "source": [
        "import pandas as pd\n",
        "\n",
        "df = pd.read_excel('supermercado.xlsx')"
      ],
      "metadata": {
        "id": "eCdD-vEKlmuO"
      },
      "execution_count": 1,
      "outputs": []
    },
    {
      "cell_type": "code",
      "source": [
        "df\n"
      ],
      "metadata": {
        "id": "3Gqv8d89nAk8"
      },
      "execution_count": null,
      "outputs": []
    },
    {
      "cell_type": "markdown",
      "source": [
        "2 - limpeza dos dados"
      ],
      "metadata": {
        "id": "XCy666Yz0DFR"
      }
    },
    {
      "cell_type": "code",
      "source": [
        "# verificando os tipos de dados do data frame\n",
        "\n",
        "df.info()"
      ],
      "metadata": {
        "id": "OKbm25zeobIF"
      },
      "execution_count": null,
      "outputs": []
    },
    {
      "cell_type": "code",
      "source": [
        " # calculando o valor total com´prado por cada cliente\n",
        "total_compras_por_cliente = df.groupby('Cliente')['Valor'].sum()\n",
        "\n",
        "# Imprima o resultado\n",
        "print(total_compras_por_cliente)"
      ],
      "metadata": {
        "id": "dPB9h234o92x"
      },
      "execution_count": null,
      "outputs": []
    },
    {
      "cell_type": "code",
      "source": [
        "# calculando o valor médido de compra de cada cliente.\n",
        "\n",
        "print(\"Média de total de compras por cliente: {:.2f}\".format(df.groupby('Cliente')['Valor'].sum().mean()))\n"
      ],
      "metadata": {
        "id": "PcC9CjYrpT7y"
      },
      "execution_count": null,
      "outputs": []
    },
    {
      "cell_type": "code",
      "source": [
        "# verificando qual a categoria mais comprada por cada cliente\n",
        "categoria_mais_adquirida  = df.groupby('Cliente')['Categoria'].agg(lambda x: x.mode()[0])\n",
        "\n",
        "print(categoria_mais_adquirida)"
      ],
      "metadata": {
        "id": "XiQNCg8Ast1y"
      },
      "execution_count": null,
      "outputs": []
    },
    {
      "cell_type": "code",
      "source": [
        "# Define o ticket médio\n",
        "ticket_medio = 1580\n",
        "\n",
        "# Cria um dicionário para armazenar os cupons de desconto\n",
        "cupons_desconto = {}\n",
        "\n",
        "# Itera sobre os clientes e aplica descontos\n",
        "for cliente, valor_total_compras_cliente in total_compras_por_cliente.items():\n",
        "    # Obtém a categoria mais adquirida pelo cliente\n",
        "    categoria = categoria_mais_adquirida[cliente]\n",
        "\n",
        "    # Calcula o desconto com base no ticket médio\n",
        "    if valor_total_compras_cliente > ticket_medio:\n",
        "        desconto = '20%'\n",
        "    else:\n",
        "        desconto = '10%'\n",
        "\n",
        "    # Armazena o cupom de desconto no dicionário\n",
        "    cupons_desconto[cliente] = {'Desconto': desconto, 'Categoria': categoria}\n",
        "\n",
        "# Cria o DataFrame df2 a partir do dicionário de cupons de desconto\n",
        "df2 = pd.DataFrame(cupons_desconto).T.reset_index().rename(columns={'index': 'Cliente'})\n",
        "\n",
        "# Imprime DataFrame com os cupons de desconto\n",
        "print(df2)\n",
        "\n"
      ],
      "metadata": {
        "id": "QmPm2H84utfb"
      },
      "execution_count": null,
      "outputs": []
    }
  ]
}